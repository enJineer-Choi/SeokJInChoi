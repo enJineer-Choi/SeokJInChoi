{
 "cells": [
  {
   "cell_type": "markdown",
   "id": "870465fd-cd8d-4ebb-be9a-9f788b89e007",
   "metadata": {},
   "source": [
    "## 2914"
   ]
  },
  {
   "cell_type": "code",
   "execution_count": 2,
   "id": "ede320ef-2b41-47c4-9207-ad89aeaa10e8",
   "metadata": {},
   "outputs": [
    {
     "name": "stdin",
     "output_type": "stream",
     "text": [
      " 10 10\n"
     ]
    },
    {
     "name": "stdout",
     "output_type": "stream",
     "text": [
      "91\n"
     ]
    }
   ],
   "source": [
    "A,B=map(int,input().split())\n",
    "print(A*(B-1)+1)"
   ]
  },
  {
   "cell_type": "markdown",
   "id": "fa530f1f-fe7a-4d95-aff2-2964d0b8fcf6",
   "metadata": {},
   "source": [
    "## 10699"
   ]
  },
  {
   "cell_type": "code",
   "execution_count": 4,
   "id": "f72a1a18-dec3-45c4-ae45-4fe34d470cd6",
   "metadata": {},
   "outputs": [],
   "source": [
    "import datetime\n",
    "d=datetime.datetime.now()"
   ]
  },
  {
   "cell_type": "code",
   "execution_count": 5,
   "id": "08f1396c-5ef4-46df-89f0-0e1e4086edc6",
   "metadata": {},
   "outputs": [
    {
     "data": {
      "text/plain": [
       "'2022-07-26 18:59:14.984271'"
      ]
     },
     "execution_count": 5,
     "metadata": {},
     "output_type": "execute_result"
    }
   ],
   "source": [
    "str(d)"
   ]
  },
  {
   "cell_type": "code",
   "execution_count": 8,
   "id": "bef60c85-b5db-4f84-af5a-749f94a3bd1a",
   "metadata": {},
   "outputs": [
    {
     "name": "stdout",
     "output_type": "stream",
     "text": [
      "2022-07-26\n"
     ]
    }
   ],
   "source": [
    "print(str(d)[:10])"
   ]
  },
  {
   "cell_type": "markdown",
   "id": "f7bf82e6-40e1-4081-aba8-670724f30deb",
   "metadata": {},
   "source": [
    "## 2588"
   ]
  },
  {
   "cell_type": "code",
   "execution_count": 14,
   "id": "622f6cee-d72e-4307-ab13-f21fa10d2f59",
   "metadata": {},
   "outputs": [
    {
     "name": "stdin",
     "output_type": "stream",
     "text": [
      " 472\n",
      " 385\n"
     ]
    },
    {
     "name": "stdout",
     "output_type": "stream",
     "text": [
      "181720\n"
     ]
    }
   ],
   "source": [
    "a=int(input())\n",
    "b=int(input())\n",
    "print(a*b)"
   ]
  },
  {
   "cell_type": "code",
   "execution_count": 16,
   "id": "1ba83526-b49c-48b4-b425-9cdac63befc8",
   "metadata": {},
   "outputs": [
    {
     "data": {
      "text/plain": [
       "(int, int)"
      ]
     },
     "execution_count": 16,
     "metadata": {},
     "output_type": "execute_result"
    }
   ],
   "source": [
    "type(a),type(b)"
   ]
  },
  {
   "cell_type": "code",
   "execution_count": 17,
   "id": "92078ba9-2725-4228-bb0f-f333c74e4671",
   "metadata": {},
   "outputs": [],
   "source": [
    "number=123"
   ]
  },
  {
   "cell_type": "code",
   "execution_count": 19,
   "id": "55fd2a93-2f75-4bf3-8753-be34cd611416",
   "metadata": {},
   "outputs": [
    {
     "data": {
      "text/plain": [
       "6"
      ]
     },
     "execution_count": 19,
     "metadata": {},
     "output_type": "execute_result"
    }
   ],
   "source": [
    "sum(map(int, str(number)))"
   ]
  },
  {
   "cell_type": "code",
   "execution_count": null,
   "id": "e71b54a5-ff6c-486b-bd3f-09dd6a875927",
   "metadata": {},
   "outputs": [],
   "source": []
  }
 ],
 "metadata": {
  "kernelspec": {
   "display_name": "Python 3 (ipykernel)",
   "language": "python",
   "name": "python3"
  },
  "language_info": {
   "codemirror_mode": {
    "name": "ipython",
    "version": 3
   },
   "file_extension": ".py",
   "mimetype": "text/x-python",
   "name": "python",
   "nbconvert_exporter": "python",
   "pygments_lexer": "ipython3",
   "version": "3.9.7"
  }
 },
 "nbformat": 4,
 "nbformat_minor": 5
}
