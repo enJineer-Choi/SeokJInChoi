{
 "cells": [
  {
   "cell_type": "markdown",
   "id": "bde5eded-658b-4fd9-9864-eb8dfa103507",
   "metadata": {},
   "source": [
    "## 9506"
   ]
  },
  {
   "cell_type": "code",
   "execution_count": null,
   "id": "8f97d670-0267-4aba-ba7c-c9f0610f1909",
   "metadata": {},
   "outputs": [],
   "source": []
  }
 ],
 "metadata": {
  "kernelspec": {
   "display_name": "Python 3 (ipykernel)",
   "language": "python",
   "name": "python3"
  },
  "language_info": {
   "codemirror_mode": {
    "name": "ipython",
    "version": 3
   },
   "file_extension": ".py",
   "mimetype": "text/x-python",
   "name": "python",
   "nbconvert_exporter": "python",
   "pygments_lexer": "ipython3",
   "version": "3.9.7"
  }
 },
 "nbformat": 4,
 "nbformat_minor": 5
}
