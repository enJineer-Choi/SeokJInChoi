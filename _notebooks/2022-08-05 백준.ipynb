{
 "cells": [
  {
   "cell_type": "markdown",
   "id": "035f8055-b8e0-41fb-b9d1-c4e05bf923dc",
   "metadata": {},
   "source": [
    "## 3009"
   ]
  },
  {
   "cell_type": "code",
   "execution_count": null,
   "id": "afaf9b58-80a4-438d-860e-ae58fa286ebd",
   "metadata": {},
   "outputs": [],
   "source": [
    "x=[]\n",
    "y=[]\n",
    "for i in range(3):\n",
    "    a,b=map(int,input().split())\n",
    "    x.append(a)\n",
    "    y.append(b)\n",
    "for i in range(3):\n",
    "    if x.count(x[i])==1:\n",
    "        x4=x[i]\n",
    "    if y.count(y[i])==1:\n",
    "        y4=y[i]\n",
    "print(x4,y4)"
   ]
  },
  {
   "cell_type": "code",
   "execution_count": null,
   "id": "95060cad-f19c-4d88-b2c6-5b77975951fc",
   "metadata": {},
   "outputs": [],
   "source": []
  }
 ],
 "metadata": {
  "kernelspec": {
   "display_name": "Python 3 (ipykernel)",
   "language": "python",
   "name": "python3"
  },
  "language_info": {
   "codemirror_mode": {
    "name": "ipython",
    "version": 3
   },
   "file_extension": ".py",
   "mimetype": "text/x-python",
   "name": "python",
   "nbconvert_exporter": "python",
   "pygments_lexer": "ipython3",
   "version": "3.9.7"
  }
 },
 "nbformat": 4,
 "nbformat_minor": 5
}
