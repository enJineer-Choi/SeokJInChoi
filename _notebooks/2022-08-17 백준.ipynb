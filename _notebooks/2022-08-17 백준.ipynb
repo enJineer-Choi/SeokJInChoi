{
 "cells": [
  {
   "cell_type": "markdown",
   "id": "898620d2-0842-4858-87e9-1a8dd1f46322",
   "metadata": {},
   "source": [
    "## 10162"
   ]
  },
  {
   "cell_type": "code",
   "execution_count": null,
   "id": "066fb45d-8533-4090-98d5-5521f4756a90",
   "metadata": {},
   "outputs": [],
   "source": []
  }
 ],
 "metadata": {
  "kernelspec": {
   "display_name": "Python 3 (ipykernel)",
   "language": "python",
   "name": "python3"
  },
  "language_info": {
   "codemirror_mode": {
    "name": "ipython",
    "version": 3
   },
   "file_extension": ".py",
   "mimetype": "text/x-python",
   "name": "python",
   "nbconvert_exporter": "python",
   "pygments_lexer": "ipython3",
   "version": "3.9.7"
  }
 },
 "nbformat": 4,
 "nbformat_minor": 5
}
