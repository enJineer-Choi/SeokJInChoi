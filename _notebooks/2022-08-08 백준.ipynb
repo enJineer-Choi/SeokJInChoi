{
 "cells": [
  {
   "cell_type": "markdown",
   "id": "b3ffa0d4-3944-4fa1-95db-830925db82d0",
   "metadata": {},
   "source": [
    "## 7567"
   ]
  },
  {
   "cell_type": "code",
   "execution_count": 1,
   "id": "115d3429-dbee-4fad-b912-e21ef0b43d7a",
   "metadata": {},
   "outputs": [
    {
     "name": "stdin",
     "output_type": "stream",
     "text": [
      " ((((\n"
     ]
    },
    {
     "name": "stdout",
     "output_type": "stream",
     "text": [
      "25\n"
     ]
    }
   ],
   "source": [
    "d=list(str(input()))\n",
    "l=0\n",
    "for i in range(len(d)):\n",
    "    if i==0:\n",
    "        l+=10\n",
    "    elif d[i-1]==d[i]:\n",
    "        l+=5\n",
    "    else:\n",
    "        l+=10\n",
    "print(l)"
   ]
  },
  {
   "cell_type": "code",
   "execution_count": null,
   "id": "43783b8f-6af9-41b2-b94a-929b529464f8",
   "metadata": {},
   "outputs": [],
   "source": []
  }
 ],
 "metadata": {
  "kernelspec": {
   "display_name": "Python 3 (ipykernel)",
   "language": "python",
   "name": "python3"
  },
  "language_info": {
   "codemirror_mode": {
    "name": "ipython",
    "version": 3
   },
   "file_extension": ".py",
   "mimetype": "text/x-python",
   "name": "python",
   "nbconvert_exporter": "python",
   "pygments_lexer": "ipython3",
   "version": "3.9.7"
  }
 },
 "nbformat": 4,
 "nbformat_minor": 5
}
