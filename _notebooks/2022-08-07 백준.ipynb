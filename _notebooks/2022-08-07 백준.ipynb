{
 "cells": [
  {
   "cell_type": "markdown",
   "id": "d7a54a72-9e73-4c72-89a2-bac6819ebf8d",
   "metadata": {},
   "source": [
    "## 2884 "
   ]
  },
  {
   "cell_type": "code",
   "execution_count": 3,
   "id": "3415a022-9336-45f5-8817-99974f9676d3",
   "metadata": {},
   "outputs": [
    {
     "name": "stdin",
     "output_type": "stream",
     "text": [
      " 23 40\n"
     ]
    },
    {
     "name": "stdout",
     "output_type": "stream",
     "text": [
      "22 55\n"
     ]
    }
   ],
   "source": [
    "h,m=map(int,input().split())\n",
    "if m>44:\n",
    "    print(h,m-45)\n",
    "elif m<45 and h>0:\n",
    "    print(h-1,m+15)\n",
    "else:\n",
    "    print(23,m+15)"
   ]
  },
  {
   "cell_type": "code",
   "execution_count": null,
   "id": "002e8a32-37e9-4a96-ac68-eda2ee0655b9",
   "metadata": {},
   "outputs": [],
   "source": []
  }
 ],
 "metadata": {
  "kernelspec": {
   "display_name": "Python 3 (ipykernel)",
   "language": "python",
   "name": "python3"
  },
  "language_info": {
   "codemirror_mode": {
    "name": "ipython",
    "version": 3
   },
   "file_extension": ".py",
   "mimetype": "text/x-python",
   "name": "python",
   "nbconvert_exporter": "python",
   "pygments_lexer": "ipython3",
   "version": "3.9.7"
  }
 },
 "nbformat": 4,
 "nbformat_minor": 5
}
