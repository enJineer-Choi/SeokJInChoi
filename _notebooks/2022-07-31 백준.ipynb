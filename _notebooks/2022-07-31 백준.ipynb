{
 "cells": [
  {
   "cell_type": "markdown",
   "id": "61db50e4-724e-4d54-a5da-5233d20ee78d",
   "metadata": {},
   "source": [
    "## 10214"
   ]
  },
  {
   "cell_type": "markdown",
   "id": "d80de86b-6ea1-4fb4-beb4-cbc4c581e504",
   "metadata": {},
   "source": [
    "틀린풀이"
   ]
  },
  {
   "cell_type": "code",
   "execution_count": 7,
   "id": "3062fa11-5852-4823-906a-763d12d8fa6c",
   "metadata": {},
   "outputs": [
    {
     "name": "stdin",
     "output_type": "stream",
     "text": [
      " 2\n",
      " 1 0\n",
      " 0 0\n",
      " 0 0\n",
      " 0 0\n",
      " 0 0\n",
      " 0 0\n",
      " 0 0\n",
      " 0 0\n",
      " 0 0\n",
      " 0 0\n",
      " 0 0\n",
      " 0 0\n",
      " 0 0\n",
      " 0 0\n",
      " 0 0\n",
      " 0 0\n",
      " 0 0\n",
      " 0 0\n"
     ]
    },
    {
     "name": "stdout",
     "output_type": "stream",
     "text": [
      "Yonsei\n"
     ]
    }
   ],
   "source": [
    "yp=0\n",
    "kp=0\n",
    "T=int(input())\n",
    "for i in range(9*T):\n",
    "    Y,K=map(int,input().split())\n",
    "    yp=yp+Y\n",
    "    kp=kp+K\n",
    "if yp>kp:\n",
    "    print(\"Yonsei\")\n",
    "elif yp<kp:\n",
    "    print(\"Korea\")\n",
    "else:\n",
    "    print(\"Draw\")"
   ]
  },
  {
   "cell_type": "markdown",
   "id": "350ee645-272e-429e-950a-df7283caa2a1",
   "metadata": {},
   "source": [
    "맞은풀이"
   ]
  },
  {
   "cell_type": "code",
   "execution_count": 1,
   "id": "69581f06-d557-4d0e-9ace-2b7b0714340b",
   "metadata": {},
   "outputs": [
    {
     "name": "stdin",
     "output_type": "stream",
     "text": [
      " 2\n",
      " 1 0\n",
      " 0 0\n",
      " 0 0\n",
      " 0 0\n",
      " 0 0\n",
      " 0 0\n",
      " 0 0\n",
      " 0 0\n",
      " 0 0\n"
     ]
    },
    {
     "name": "stdout",
     "output_type": "stream",
     "text": [
      "Yonsei\n"
     ]
    },
    {
     "name": "stdin",
     "output_type": "stream",
     "text": [
      " 0 1\n",
      " 0 0\n",
      " 0 0\n",
      " 0 0\n",
      " 0 0\n",
      " 0 0\n",
      " 0 0\n",
      " 0 0\n",
      " 0 0\n"
     ]
    },
    {
     "name": "stdout",
     "output_type": "stream",
     "text": [
      "Korea\n"
     ]
    }
   ],
   "source": [
    "T=int(input())\n",
    "for i in range(T):\n",
    "    yp=0\n",
    "    kp=0\n",
    "    for l in range(9):\n",
    "        y,k=map(int,input().split())\n",
    "        yp+=y\n",
    "        kp+=k\n",
    "    if yp>kp:\n",
    "        print(\"Yonsei\")\n",
    "    elif yp<kp:\n",
    "        print(\"Korea\")\n",
    "    else:\n",
    "        print(\"Draw\")"
   ]
  },
  {
   "cell_type": "markdown",
   "id": "82958e95-fd5b-46ba-ace8-702dc147d4a1",
   "metadata": {},
   "source": [
    "## 10103"
   ]
  },
  {
   "cell_type": "code",
   "execution_count": 4,
   "id": "2a17167f-6fc5-4de5-b32d-24c3b3796066",
   "metadata": {},
   "outputs": [
    {
     "name": "stdin",
     "output_type": "stream",
     "text": [
      " 4\n",
      " 5 6\n",
      " 6 6\n",
      " 4 3\n",
      " 5 2\n"
     ]
    },
    {
     "name": "stdout",
     "output_type": "stream",
     "text": [
      "94\n",
      "91\n"
     ]
    }
   ],
   "source": [
    "c=100\n",
    "s=100\n",
    "n=int(input())\n",
    "for i in range(n):\n",
    "    cd,sd=map(int,input().split())\n",
    "    if cd>sd:\n",
    "        s-=cd\n",
    "    elif cd<sd:\n",
    "        c-=sd\n",
    "    else:\n",
    "        c=c\n",
    "        s=s\n",
    "print(c)\n",
    "print(s)"
   ]
  },
  {
   "cell_type": "code",
   "execution_count": null,
   "id": "e921ff24-f304-42ab-b7d2-211cab522fe4",
   "metadata": {},
   "outputs": [],
   "source": []
  }
 ],
 "metadata": {
  "kernelspec": {
   "display_name": "Python 3 (ipykernel)",
   "language": "python",
   "name": "python3"
  },
  "language_info": {
   "codemirror_mode": {
    "name": "ipython",
    "version": 3
   },
   "file_extension": ".py",
   "mimetype": "text/x-python",
   "name": "python",
   "nbconvert_exporter": "python",
   "pygments_lexer": "ipython3",
   "version": "3.9.7"
  }
 },
 "nbformat": 4,
 "nbformat_minor": 5
}
