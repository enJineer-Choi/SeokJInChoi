{
 "cells": [
  {
   "cell_type": "markdown",
   "id": "cc6dda71-c587-46c2-ab8f-2881bda55108",
   "metadata": {},
   "source": [
    "## 8958"
   ]
  },
  {
   "cell_type": "code",
   "execution_count": null,
   "id": "689502cf-70d4-4e98-9979-f49df21835b7",
   "metadata": {},
   "outputs": [],
   "source": []
  }
 ],
 "metadata": {
  "kernelspec": {
   "display_name": "Python 3 (ipykernel)",
   "language": "python",
   "name": "python3"
  },
  "language_info": {
   "codemirror_mode": {
    "name": "ipython",
    "version": 3
   },
   "file_extension": ".py",
   "mimetype": "text/x-python",
   "name": "python",
   "nbconvert_exporter": "python",
   "pygments_lexer": "ipython3",
   "version": "3.9.7"
  }
 },
 "nbformat": 4,
 "nbformat_minor": 5
}
