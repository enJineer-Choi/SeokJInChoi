{
 "cells": [
  {
   "cell_type": "markdown",
   "id": "0b36a2fe-14eb-410d-88a9-af908d9af7d4",
   "metadata": {},
   "source": [
    "## 2935"
   ]
  },
  {
   "cell_type": "code",
   "execution_count": 7,
   "id": "4fff6133-1638-40d3-b339-9f1ff5b33f8e",
   "metadata": {},
   "outputs": [
    {
     "name": "stdin",
     "output_type": "stream",
     "text": [
      " 1\n",
      " *\n",
      " 10000\n"
     ]
    },
    {
     "name": "stdout",
     "output_type": "stream",
     "text": [
      "10000\n"
     ]
    }
   ],
   "source": [
    "a=int(input())\n",
    "c=input()\n",
    "b=int(input())\n",
    "if c=='*':\n",
    "    print(a*b)\n",
    "elif c=='+':\n",
    "    print(a+b)"
   ]
  },
  {
   "cell_type": "markdown",
   "id": "a95afc07-e07b-451b-94da-4af1a5e6b637",
   "metadata": {},
   "source": [
    "## 5355"
   ]
  },
  {
   "cell_type": "code",
   "execution_count": null,
   "id": "490461d3-4231-4709-a40e-ca215c23b738",
   "metadata": {},
   "outputs": [],
   "source": [
    "T=int(input())\n",
    "for i in range(T):\n",
    "    a=list(map(str,input().split()))\n",
    "    num=float(a[0])\n",
    "    for j in range(1,len(a)):\n",
    "        if a[j]=='@':\n",
    "            num*=3\n",
    "        elif a[j]=='%':\n",
    "            num+=5\n",
    "        elif a[j]=='#'"
   ]
  },
  {
   "cell_type": "markdown",
   "id": "0f443f9a-8869-4dbd-b5b8-c6adc4201e25",
   "metadata": {},
   "source": [
    "## 2675"
   ]
  },
  {
   "cell_type": "markdown",
   "id": "c9534471-74a4-45a6-b2c0-67b0280c7bed",
   "metadata": {},
   "source": [
    "틀린풀이(1)"
   ]
  },
  {
   "cell_type": "code",
   "execution_count": 18,
   "id": "c5bd6b06-62f0-4b6b-b806-d8b155ae677b",
   "metadata": {},
   "outputs": [
    {
     "name": "stdin",
     "output_type": "stream",
     "text": [
      " 2\n",
      " 3 ABC\n"
     ]
    },
    {
     "name": "stdout",
     "output_type": "stream",
     "text": [
      "AAABBBCCC"
     ]
    },
    {
     "name": "stdin",
     "output_type": "stream",
     "text": [
      " 5 /HTP\n"
     ]
    },
    {
     "name": "stdout",
     "output_type": "stream",
     "text": [
      "/////HHHHHTTTTTPPPPP"
     ]
    }
   ],
   "source": [
    "t=int(input())\n",
    "for i in range(t):\n",
    "    n,s=input().split()\n",
    "    n=int(n)\n",
    "    for j in s:\n",
    "        print(n*j,end=\"\")"
   ]
  },
  {
   "cell_type": "markdown",
   "id": "d9bda794-b2ac-408d-9efb-fcbcaea01693",
   "metadata": {},
   "source": [
    "틀린풀이(2)"
   ]
  },
  {
   "cell_type": "code",
   "execution_count": 20,
   "id": "b71ff236-0c58-4799-b028-bb6ec40da3a7",
   "metadata": {},
   "outputs": [
    {
     "name": "stdin",
     "output_type": "stream",
     "text": [
      " 2\n",
      " 3 ABC\n"
     ]
    },
    {
     "name": "stdout",
     "output_type": "stream",
     "text": [
      "AAABBBCCC"
     ]
    },
    {
     "name": "stdin",
     "output_type": "stream",
     "text": [
      " 5 /HTP\n"
     ]
    },
    {
     "name": "stdout",
     "output_type": "stream",
     "text": [
      "/////HHHHHTTTTTPPPPP"
     ]
    }
   ],
   "source": [
    "t = int(input())\n",
    "\n",
    "for _ in range(t):\n",
    "    n,s = input().split()\n",
    "    for j in s:\n",
    "        print(j*int(n), end='')"
   ]
  },
  {
   "cell_type": "markdown",
   "id": "ab7ce207-3cf0-4780-bbbc-11c9a3ebb743",
   "metadata": {},
   "source": [
    "맞은풀이"
   ]
  },
  {
   "cell_type": "code",
   "execution_count": 21,
   "id": "ab80b466-7449-40ab-ad15-dc2a241c4a81",
   "metadata": {},
   "outputs": [
    {
     "name": "stdin",
     "output_type": "stream",
     "text": [
      " 2\n",
      " 3 ABC\n"
     ]
    },
    {
     "name": "stdout",
     "output_type": "stream",
     "text": [
      "AAABBBCCC\n"
     ]
    },
    {
     "name": "stdin",
     "output_type": "stream",
     "text": [
      " 5 /HTP\n"
     ]
    },
    {
     "name": "stdout",
     "output_type": "stream",
     "text": [
      "/////HHHHHTTTTTPPPPP\n"
     ]
    }
   ],
   "source": [
    "t = int(input())\n",
    "for i in range(t):\n",
    "    num, s = input().split()\n",
    "    text = ''\n",
    "    for i in s:\n",
    "        text += int(num) * i\n",
    "    print(text)"
   ]
  },
  {
   "cell_type": "code",
   "execution_count": 24,
   "id": "ae9b83d9-6a14-40ac-a4ca-c236ab233aec",
   "metadata": {},
   "outputs": [],
   "source": [
    "A=list('123')\n",
    "b=float(A[0])"
   ]
  },
  {
   "cell_type": "code",
   "execution_count": 25,
   "id": "c38f632d-db11-453d-8335-0fcdbc09edfb",
   "metadata": {},
   "outputs": [
    {
     "data": {
      "text/plain": [
       "1.0"
      ]
     },
     "execution_count": 25,
     "metadata": {},
     "output_type": "execute_result"
    }
   ],
   "source": [
    "b"
   ]
  },
  {
   "cell_type": "code",
   "execution_count": null,
   "id": "6b20aa47-6dce-4789-8cbc-f9632d1faffe",
   "metadata": {},
   "outputs": [],
   "source": []
  }
 ],
 "metadata": {
  "kernelspec": {
   "display_name": "Python 3 (ipykernel)",
   "language": "python",
   "name": "python3"
  },
  "language_info": {
   "codemirror_mode": {
    "name": "ipython",
    "version": 3
   },
   "file_extension": ".py",
   "mimetype": "text/x-python",
   "name": "python",
   "nbconvert_exporter": "python",
   "pygments_lexer": "ipython3",
   "version": "3.9.7"
  }
 },
 "nbformat": 4,
 "nbformat_minor": 5
}
