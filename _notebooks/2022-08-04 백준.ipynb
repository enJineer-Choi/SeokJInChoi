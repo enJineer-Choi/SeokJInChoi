{
 "cells": [
  {
   "cell_type": "markdown",
   "id": "6780dec6-84a5-4795-9ae9-4c64b73012ed",
   "metadata": {},
   "source": [
    "## 2480"
   ]
  },
  {
   "cell_type": "code",
   "execution_count": 6,
   "id": "d2d100ef-33ad-4dd6-81dd-5a11a8305ef5",
   "metadata": {},
   "outputs": [
    {
     "name": "stdin",
     "output_type": "stream",
     "text": [
      " 6 2 5\n"
     ]
    },
    {
     "name": "stdout",
     "output_type": "stream",
     "text": [
      "600\n"
     ]
    }
   ],
   "source": [
    "a,b,c=map(int,input().split())\n",
    "if (a==b) & (b==c) & (c==a) :\n",
    "    print(10000+a*1000)\n",
    "elif (a==b) | (b==c):\n",
    "    print(1000+b*100)\n",
    "elif (a==c):\n",
    "    print(1000+a*100)\n",
    "else:\n",
    "    print(100*max(a,b,c))"
   ]
  },
  {
   "cell_type": "code",
   "execution_count": null,
   "id": "885be834-6160-43a4-bd9d-5f51b2388034",
   "metadata": {},
   "outputs": [],
   "source": []
  }
 ],
 "metadata": {
  "kernelspec": {
   "display_name": "Python 3 (ipykernel)",
   "language": "python",
   "name": "python3"
  },
  "language_info": {
   "codemirror_mode": {
    "name": "ipython",
    "version": 3
   },
   "file_extension": ".py",
   "mimetype": "text/x-python",
   "name": "python",
   "nbconvert_exporter": "python",
   "pygments_lexer": "ipython3",
   "version": "3.9.7"
  }
 },
 "nbformat": 4,
 "nbformat_minor": 5
}
