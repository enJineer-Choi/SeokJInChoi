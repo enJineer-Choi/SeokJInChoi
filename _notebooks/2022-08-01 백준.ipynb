{
 "cells": [
  {
   "cell_type": "markdown",
   "id": "3028a474-c37d-442c-a358-d2c4ba9641b5",
   "metadata": {},
   "source": [
    "## 5063"
   ]
  },
  {
   "cell_type": "code",
   "execution_count": 1,
   "id": "5f616f80-3994-459f-91c9-47b6178eb1d9",
   "metadata": {},
   "outputs": [
    {
     "name": "stdin",
     "output_type": "stream",
     "text": [
      " 3\n",
      " 0 100 70\n"
     ]
    },
    {
     "name": "stdout",
     "output_type": "stream",
     "text": [
      "advertise\n"
     ]
    },
    {
     "name": "stdin",
     "output_type": "stream",
     "text": [
      " 100 130 30\n"
     ]
    },
    {
     "name": "stdout",
     "output_type": "stream",
     "text": [
      "does not matter\n"
     ]
    },
    {
     "name": "stdin",
     "output_type": "stream",
     "text": [
      " -100 -70 40\n"
     ]
    },
    {
     "name": "stdout",
     "output_type": "stream",
     "text": [
      "do not advertise\n"
     ]
    }
   ],
   "source": [
    "n=int(input())\n",
    "for i in range(n):\n",
    "    r,e,c=map(int,input().split())\n",
    "    if r+c<e:\n",
    "        print(\"advertise\")\n",
    "    elif r+c>e:\n",
    "        print(\"do not advertise\")\n",
    "    else:\n",
    "        print(\"does not matter\")"
   ]
  },
  {
   "cell_type": "markdown",
   "id": "7ed59dc4-0d54-4c39-a425-8300a8577580",
   "metadata": {},
   "source": [
    "## 2525"
   ]
  },
  {
   "cell_type": "code",
   "execution_count": 11,
   "id": "2ffa4b81-0ca0-4985-861c-fdab0bcd62c3",
   "metadata": {},
   "outputs": [
    {
     "name": "stdin",
     "output_type": "stream",
     "text": [
      " 23 48\n",
      " 25\n"
     ]
    },
    {
     "name": "stdout",
     "output_type": "stream",
     "text": [
      "0 13\n"
     ]
    }
   ],
   "source": [
    "h,m=map(int,input().split())\n",
    "t=int(input())\n",
    "\n",
    "h=h+(t//60)\n",
    "m=m+(t%60)\n",
    "\n",
    "if m>=60:\n",
    "    h+=1\n",
    "    m-=60\n",
    "if h>=24:\n",
    "    h-=24\n",
    "    \n",
    "print(h,m)"
   ]
  },
  {
   "cell_type": "markdown",
   "id": "7603fb61-cb34-4435-b8bf-d384f2af733f",
   "metadata": {},
   "source": [
    "## 2530"
   ]
  },
  {
   "cell_type": "code",
   "execution_count": 19,
   "id": "d87e3f91-f1af-470a-9c24-e557e1adba87",
   "metadata": {},
   "outputs": [
    {
     "name": "stdin",
     "output_type": "stream",
     "text": [
      " 23 48 59\n",
      " 2515\n"
     ]
    },
    {
     "name": "stdout",
     "output_type": "stream",
     "text": [
      "0 30 54\n"
     ]
    }
   ],
   "source": [
    "h,m,s=map(int,input().split())\n",
    "t=int(input())\n",
    "\n",
    "h+=t//60//60\n",
    "m+=t//60%60\n",
    "s+=t%60%60\n",
    "\n",
    "if s>=60:\n",
    "    m+=1\n",
    "    s-=60\n",
    "if m>=60:\n",
    "    h+=1\n",
    "    m-=60\n",
    "if h>=24:\n",
    "    h-=24\n",
    "\n",
    "print(h,m,s)"
   ]
  },
  {
   "cell_type": "code",
   "execution_count": 20,
   "id": "ea5af91a-a33e-4ce5-8589-2315168a4740",
   "metadata": {},
   "outputs": [
    {
     "name": "stdin",
     "output_type": "stream",
     "text": [
      " 23 48 59\n",
      " 2515\n"
     ]
    },
    {
     "name": "stdout",
     "output_type": "stream",
     "text": [
      "0 30 54\n"
     ]
    }
   ],
   "source": [
    "h, m, s = map(int, input().split())\n",
    "d = int(input())\n",
    "print((h+(m+(s+d)//60)//60)%24, (m+(s+d)//60)%60, (s+d)%60)"
   ]
  },
  {
   "cell_type": "code",
   "execution_count": null,
   "id": "0b408967-0d12-408b-999a-2afe72402eb6",
   "metadata": {},
   "outputs": [],
   "source": []
  }
 ],
 "metadata": {
  "kernelspec": {
   "display_name": "Python 3 (ipykernel)",
   "language": "python",
   "name": "python3"
  },
  "language_info": {
   "codemirror_mode": {
    "name": "ipython",
    "version": 3
   },
   "file_extension": ".py",
   "mimetype": "text/x-python",
   "name": "python",
   "nbconvert_exporter": "python",
   "pygments_lexer": "ipython3",
   "version": "3.9.7"
  }
 },
 "nbformat": 4,
 "nbformat_minor": 5
}
