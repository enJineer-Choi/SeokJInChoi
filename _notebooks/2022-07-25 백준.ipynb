{
 "cells": [
  {
   "cell_type": "markdown",
   "id": "ef6e0748-055f-4dd8-915c-22dbec81c5f0",
   "metadata": {},
   "source": [
    "## 2752"
   ]
  },
  {
   "cell_type": "markdown",
   "id": "cb02d91c-bb88-4426-a486-e1555c94c35a",
   "metadata": {},
   "source": [
    "### 틀렸다는 풀이 1"
   ]
  },
  {
   "cell_type": "code",
   "execution_count": 3,
   "id": "a4710abc-b89a-40ad-b5c7-4dcd89315866",
   "metadata": {},
   "outputs": [
    {
     "name": "stdin",
     "output_type": "stream",
     "text": [
      " 3 1 2\n"
     ]
    },
    {
     "name": "stdout",
     "output_type": "stream",
     "text": [
      "1 2 3\n"
     ]
    }
   ],
   "source": [
    "k=input().split()\n",
    "k1=sorted(k)\n",
    "print(k1[0],k1[1],k1[2])"
   ]
  },
  {
   "cell_type": "markdown",
   "id": "b98330a3-e6c7-4979-9dae-4eb92d3d32d3",
   "metadata": {},
   "source": [
    "### 틀렸다는 풀이 2"
   ]
  },
  {
   "cell_type": "code",
   "execution_count": 7,
   "id": "67016bf4-77fb-43ba-910f-50aab7e6a740",
   "metadata": {},
   "outputs": [
    {
     "name": "stdin",
     "output_type": "stream",
     "text": [
      " 3 1 2\n"
     ]
    },
    {
     "name": "stdout",
     "output_type": "stream",
     "text": [
      "1 2 3\n"
     ]
    }
   ],
   "source": [
    "k=input().split()\n",
    "k.sort()\n",
    "print(k[0],k[1],k[2])"
   ]
  },
  {
   "cell_type": "markdown",
   "id": "7aacbf8e-81da-4db6-857b-55728651ca63",
   "metadata": {},
   "source": [
    "### 맞은 풀이..."
   ]
  },
  {
   "cell_type": "code",
   "execution_count": 4,
   "id": "e72fb654-46ea-405a-a837-c4f0ac19745d",
   "metadata": {},
   "outputs": [
    {
     "name": "stdin",
     "output_type": "stream",
     "text": [
      " 3 1 2\n"
     ]
    },
    {
     "name": "stdout",
     "output_type": "stream",
     "text": [
      "1 2 3\n"
     ]
    }
   ],
   "source": [
    "N = input().split()\n",
    "n = list(map(int, N))\n",
    "n.sort()\n",
    "\n",
    "print(n[0], n[1], n[2])"
   ]
  },
  {
   "cell_type": "markdown",
   "id": "632eea4a-7de2-4ab1-9fd9-4e9c4650da91",
   "metadata": {},
   "source": [
    "## 10757"
   ]
  },
  {
   "cell_type": "code",
   "execution_count": 10,
   "id": "f4617098-e94b-4906-ba3a-850954061d09",
   "metadata": {},
   "outputs": [
    {
     "name": "stdin",
     "output_type": "stream",
     "text": [
      " 9223372036854775807 9223372036854775808\n"
     ]
    },
    {
     "name": "stdout",
     "output_type": "stream",
     "text": [
      "18446744073709551615\n"
     ]
    }
   ],
   "source": [
    "A,B=map(int,input().split())\n",
    "print(A+B)"
   ]
  },
  {
   "cell_type": "markdown",
   "id": "2be47deb-5351-4514-ad31-89d0392a48e8",
   "metadata": {},
   "source": [
    "## 10817 "
   ]
  },
  {
   "cell_type": "code",
   "execution_count": 15,
   "id": "1d4ea567-f345-495c-bb50-e3273deb2d4a",
   "metadata": {},
   "outputs": [
    {
     "name": "stdin",
     "output_type": "stream",
     "text": [
      " 20 10 10\n"
     ]
    },
    {
     "name": "stdout",
     "output_type": "stream",
     "text": [
      "10\n"
     ]
    }
   ],
   "source": [
    "k=input().split()\n",
    "K=list(map(int,k))\n",
    "K.sort()\n",
    "print(K[1])"
   ]
  },
  {
   "cell_type": "code",
   "execution_count": null,
   "id": "6e8feb66-4ad7-4b53-ae27-1ed277d94b35",
   "metadata": {},
   "outputs": [],
   "source": []
  }
 ],
 "metadata": {
  "kernelspec": {
   "display_name": "Python 3 (ipykernel)",
   "language": "python",
   "name": "python3"
  },
  "language_info": {
   "codemirror_mode": {
    "name": "ipython",
    "version": 3
   },
   "file_extension": ".py",
   "mimetype": "text/x-python",
   "name": "python",
   "nbconvert_exporter": "python",
   "pygments_lexer": "ipython3",
   "version": "3.9.7"
  }
 },
 "nbformat": 4,
 "nbformat_minor": 5
}
