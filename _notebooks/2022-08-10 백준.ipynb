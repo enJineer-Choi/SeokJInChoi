{
 "cells": [
  {
   "cell_type": "markdown",
   "id": "d3add29f-526a-47d4-8c6a-c8c971bdf5ae",
   "metadata": {},
   "source": [
    "## 10886"
   ]
  },
  {
   "cell_type": "code",
   "execution_count": 2,
   "id": "a86cab60-7321-44af-921e-114c5481260b",
   "metadata": {},
   "outputs": [
    {
     "name": "stdin",
     "output_type": "stream",
     "text": [
      " 3\n",
      " 1\n",
      " 0\n",
      " 0\n"
     ]
    }
   ],
   "source": [
    "n=int(input())\n",
    "l=[]\n",
    "for i in range(n):\n",
    "    a=int(input())\n",
    "    l.append(a)\n",
    "if l.count('1')>l.count('0'):\n",
    "    print('Junhee is cute!')\n",
    "elif l.count('1')<l.count('0'):\n",
    "    print('Junhee is not cute!')"
   ]
  },
  {
   "cell_type": "code",
   "execution_count": 1,
   "id": "46c86328-1815-46a1-8073-09931bba7b1b",
   "metadata": {},
   "outputs": [
    {
     "name": "stdin",
     "output_type": "stream",
     "text": [
      " 3\n"
     ]
    },
    {
     "name": "stdout",
     "output_type": "stream",
     "text": [
      "Junhee is not cute!\n"
     ]
    }
   ],
   "source": [
    "n=int(input())\n",
    "y,n=0,0\n",
    "for i in range(n):\n",
    "    a=int(input())\n",
    "    if a==1:\n",
    "        y+=1\n",
    "    else:\n",
    "        n+=1\n",
    "        \n",
    "if y>n:\n",
    "    print(\"Junhee is cute!\")\n",
    "else:\n",
    "    print(\"Junhee is not cute!\")"
   ]
  },
  {
   "cell_type": "code",
   "execution_count": 2,
   "id": "761476d8-da53-45c7-9cc5-cdcce2c143bb",
   "metadata": {},
   "outputs": [
    {
     "name": "stdin",
     "output_type": "stream",
     "text": [
      " 3\n",
      " 1\n",
      " 0\n",
      " 0\n"
     ]
    },
    {
     "name": "stdout",
     "output_type": "stream",
     "text": [
      "Junhee is not cute!\n"
     ]
    }
   ],
   "source": [
    "tc = int(input())\n",
    "count0 = 0\n",
    "count1 = 0\n",
    "\n",
    "for _ in range(tc) :\n",
    "  n = int(input())\n",
    "  if n == 1 :\n",
    "    count1 += 1\n",
    "  else :\n",
    "    count0 += 1\n",
    "\n",
    "if count0 > count1 :\n",
    "  print(\"Junhee is not cute!\")\n",
    "else :\n",
    "  print(\"Junhee is cute!\")\n"
   ]
  },
  {
   "cell_type": "code",
   "execution_count": null,
   "id": "4e0f2eab-3fb5-4725-b7f7-e456642a6cd9",
   "metadata": {},
   "outputs": [],
   "source": []
  }
 ],
 "metadata": {
  "kernelspec": {
   "display_name": "Python 3 (ipykernel)",
   "language": "python",
   "name": "python3"
  },
  "language_info": {
   "codemirror_mode": {
    "name": "ipython",
    "version": 3
   },
   "file_extension": ".py",
   "mimetype": "text/x-python",
   "name": "python",
   "nbconvert_exporter": "python",
   "pygments_lexer": "ipython3",
   "version": "3.9.7"
  }
 },
 "nbformat": 4,
 "nbformat_minor": 5
}
