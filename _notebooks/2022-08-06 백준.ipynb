{
 "cells": [
  {
   "cell_type": "markdown",
   "id": "24002373-5ad7-4233-8748-6f988b661b8c",
   "metadata": {},
   "source": [
    "## 2476"
   ]
  },
  {
   "cell_type": "code",
   "execution_count": 9,
   "id": "941e871d-b478-4621-ab2c-9b1b15c8d0cc",
   "metadata": {},
   "outputs": [
    {
     "name": "stdin",
     "output_type": "stream",
     "text": [
      " 3\n",
      " 3 3 6\n",
      " 2 2 2\n",
      " 6 2 5\n"
     ]
    },
    {
     "name": "stdout",
     "output_type": "stream",
     "text": [
      "12000\n"
     ]
    }
   ],
   "source": [
    "n=int(input())\n",
    "x=0\n",
    "for i in range(n):\n",
    "    a,b,c=map(int,input().split())    \n",
    "    if a==b==c :\n",
    "        x=max(x,10000+a*1000)\n",
    "    elif a==b:\n",
    "        x=max(x,1000+a*100)\n",
    "    elif a==c:\n",
    "        x=max(x,1000+a*100)\n",
    "    elif b==c:\n",
    "        x=max(x,1000+b*100)\n",
    "    else:\n",
    "        x=max(x,100*max(a,b,c))\n",
    "print(x)"
   ]
  },
  {
   "cell_type": "markdown",
   "id": "8d5328cf-0354-4564-8cea-aa4558458fe8",
   "metadata": {},
   "source": [
    "## 2754"
   ]
  },
  {
   "cell_type": "code",
   "execution_count": 16,
   "id": "9537b4c4-67a0-479d-9a7c-1d83a1a57b0e",
   "metadata": {},
   "outputs": [
    {
     "name": "stdin",
     "output_type": "stream",
     "text": [
      " A+\n"
     ]
    },
    {
     "name": "stdout",
     "output_type": "stream",
     "text": [
      "4.3\n"
     ]
    }
   ],
   "source": [
    "g=str(input())\n",
    "if g=='A+':\n",
    "    print(4.3)\n",
    "elif g=='A0':\n",
    "    print(4.0)\n",
    "elif g=='A-':\n",
    "    print(3.7)\n",
    "elif g=='B+':\n",
    "    print(3.3)\n",
    "elif g=='B0':\n",
    "    print(3.0)\n",
    "elif g=='B-':\n",
    "    print(2.7)\n",
    "elif g=='C+':\n",
    "    print(2.3)\n",
    "elif g=='C0':\n",
    "    print(2.0)\n",
    "elif g=='C-':\n",
    "    print(1.7)\n",
    "elif g=='D+':\n",
    "    print(1.3)    \n",
    "elif g=='D0':\n",
    "    print(1.0)\n",
    "elif g=='D-':\n",
    "    print(0.7)\n",
    "elif g=='F':\n",
    "    print(0.0)\n"
   ]
  },
  {
   "cell_type": "code",
   "execution_count": 17,
   "id": "4a8b081c-4735-4dcd-bdc7-9459b8e6120b",
   "metadata": {},
   "outputs": [
    {
     "name": "stdin",
     "output_type": "stream",
     "text": [
      " A+\n"
     ]
    },
    {
     "name": "stdout",
     "output_type": "stream",
     "text": [
      "4.3\n"
     ]
    }
   ],
   "source": [
    "dic = {'A+':'4.3', 'A0':'4.0', 'A-':'3.7',\n",
    "       'B+':'3.3', 'B0':'3.0', 'B-':'2.7',\n",
    "       'C+':'2.3', 'C0':'2.0', 'C-':'1.7',\n",
    "       'D+':'1.3', 'D0':'1.0', 'D-':'0.7',\n",
    "       'F':'0.0'}\n",
    "grade = input()\n",
    "print(dic[grade])"
   ]
  },
  {
   "cell_type": "code",
   "execution_count": null,
   "id": "cb0a2bb0-af25-4039-b05d-7a7f2f7145fc",
   "metadata": {},
   "outputs": [],
   "source": []
  }
 ],
 "metadata": {
  "kernelspec": {
   "display_name": "Python 3 (ipykernel)",
   "language": "python",
   "name": "python3"
  },
  "language_info": {
   "codemirror_mode": {
    "name": "ipython",
    "version": 3
   },
   "file_extension": ".py",
   "mimetype": "text/x-python",
   "name": "python",
   "nbconvert_exporter": "python",
   "pygments_lexer": "ipython3",
   "version": "3.9.7"
  }
 },
 "nbformat": 4,
 "nbformat_minor": 5
}
