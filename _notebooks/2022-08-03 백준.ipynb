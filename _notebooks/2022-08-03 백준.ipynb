{
 "cells": [
  {
   "cell_type": "markdown",
   "id": "e4d652f8-b31b-40a9-aa32-9d7c23a5e088",
   "metadata": {},
   "source": [
    "## 11653"
   ]
  },
  {
   "cell_type": "code",
   "execution_count": 3,
   "id": "33113181-2e5a-43c5-b630-2d2aa3767036",
   "metadata": {},
   "outputs": [
    {
     "name": "stdin",
     "output_type": "stream",
     "text": [
      " 1\n"
     ]
    }
   ],
   "source": [
    "n=int(input())\n",
    "i=2\n",
    "while n!=1:\n",
    "    if n%i==0:\n",
    "        n=n/i\n",
    "        print(i)\n",
    "    else:\n",
    "        i+=1"
   ]
  },
  {
   "cell_type": "markdown",
   "id": "7a1dccc8-c05e-4086-9444-8537603fe4d7",
   "metadata": {},
   "source": [
    "## 1789"
   ]
  },
  {
   "cell_type": "code",
   "execution_count": 9,
   "id": "c58f68b0-eb97-4561-9509-2185752891db",
   "metadata": {},
   "outputs": [
    {
     "name": "stdin",
     "output_type": "stream",
     "text": [
      " 200\n"
     ]
    },
    {
     "name": "stdout",
     "output_type": "stream",
     "text": [
      "21 210\n"
     ]
    }
   ],
   "source": [
    "s=int(input())\n",
    "num=0\n",
    "a=1\n",
    "while(num<s):\n",
    "    num+=a\n",
    "    a+=1\n",
    "print(a,num)"
   ]
  },
  {
   "cell_type": "markdown",
   "id": "da15765a-6f7d-4326-8b53-c40f0106971f",
   "metadata": {},
   "source": [
    "틀린풀이"
   ]
  },
  {
   "cell_type": "code",
   "execution_count": 11,
   "id": "48fa1a6a-5786-4f7c-a940-9477fcd98da8",
   "metadata": {},
   "outputs": [
    {
     "name": "stdin",
     "output_type": "stream",
     "text": [
      " 200\n"
     ]
    },
    {
     "name": "stdout",
     "output_type": "stream",
     "text": [
      "19\n"
     ]
    }
   ],
   "source": [
    "s=int(input())\n",
    "n=1\n",
    "while (n*(n+1)/2)<s:\n",
    "    n+=1\n",
    "print(n-1)"
   ]
  },
  {
   "cell_type": "markdown",
   "id": "0b7d277f-b5ec-4b67-abd9-796359486bc2",
   "metadata": {},
   "source": [
    "맞은풀이"
   ]
  },
  {
   "cell_type": "code",
   "execution_count": 12,
   "id": "4d92aef5-2a26-4b44-ba46-0d7c6cfa4544",
   "metadata": {},
   "outputs": [
    {
     "name": "stdin",
     "output_type": "stream",
     "text": [
      " 200\n"
     ]
    },
    {
     "name": "stdout",
     "output_type": "stream",
     "text": [
      "19\n"
     ]
    }
   ],
   "source": [
    "s = int(input())\n",
    "n = 1\n",
    "while n * (n + 1) / 2 <= s:\n",
    "    n += 1\n",
    "print(n - 1)"
   ]
  },
  {
   "cell_type": "markdown",
   "id": "1532f357-0112-4507-b785-108bacf10769",
   "metadata": {},
   "source": [
    "## 1934"
   ]
  },
  {
   "cell_type": "code",
   "execution_count": 4,
   "id": "6279cbbc-4dbd-4404-bb59-1a17187685d3",
   "metadata": {},
   "outputs": [
    {
     "name": "stdin",
     "output_type": "stream",
     "text": [
      " 3\n",
      " 1 45000\n"
     ]
    },
    {
     "name": "stdout",
     "output_type": "stream",
     "text": [
      "45000\n"
     ]
    },
    {
     "name": "stdin",
     "output_type": "stream",
     "text": [
      " 6 10\n"
     ]
    },
    {
     "name": "stdout",
     "output_type": "stream",
     "text": [
      "30\n"
     ]
    },
    {
     "name": "stdin",
     "output_type": "stream",
     "text": [
      " 13 17\n"
     ]
    },
    {
     "name": "stdout",
     "output_type": "stream",
     "text": [
      "221\n"
     ]
    }
   ],
   "source": [
    "n=int(input())\n",
    "for i in range(n):\n",
    "    a,b=map(int,input().split())\n",
    "    A,B=a,b\n",
    "    while a!=0:\n",
    "        b=b%a\n",
    "        a,b=b,a\n",
    "    gcd=b\n",
    "    lcm=A*B//b\n",
    "    print(lcm)"
   ]
  },
  {
   "cell_type": "code",
   "execution_count": 5,
   "id": "6ef9470a-f9ca-4749-963b-95c1e3a8d0a8",
   "metadata": {},
   "outputs": [
    {
     "name": "stdin",
     "output_type": "stream",
     "text": [
      " 1\n",
      " 12 60\n"
     ]
    },
    {
     "name": "stdout",
     "output_type": "stream",
     "text": [
      "60 12 0 12\n"
     ]
    }
   ],
   "source": [
    "n=int(input())\n",
    "for i in range(n):\n",
    "    a,b=map(int,input().split())\n",
    "    A,B=a,b\n",
    "    while a!=0:\n",
    "        b=b%a\n",
    "        a,b=b,a\n",
    "    gcd=b\n",
    "    lcm=A*B//b\n",
    "    print(lcm,gcd,a,b)"
   ]
  },
  {
   "cell_type": "code",
   "execution_count": null,
   "id": "b48499de-1372-4044-a89e-fc5afebc386e",
   "metadata": {},
   "outputs": [],
   "source": []
  }
 ],
 "metadata": {
  "kernelspec": {
   "display_name": "Python 3 (ipykernel)",
   "language": "python",
   "name": "python3"
  },
  "language_info": {
   "codemirror_mode": {
    "name": "ipython",
    "version": 3
   },
   "file_extension": ".py",
   "mimetype": "text/x-python",
   "name": "python",
   "nbconvert_exporter": "python",
   "pygments_lexer": "ipython3",
   "version": "3.9.7"
  }
 },
 "nbformat": 4,
 "nbformat_minor": 5
}
