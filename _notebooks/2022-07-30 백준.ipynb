{
 "cells": [
  {
   "cell_type": "markdown",
   "id": "e085654d-ad96-4c19-9126-f063ae79375b",
   "metadata": {},
   "source": [
    "## 10039"
   ]
  },
  {
   "cell_type": "code",
   "execution_count": null,
   "id": "149ff607-ee79-4088-89db-1c5ab79db85c",
   "metadata": {},
   "outputs": [],
   "source": [
    "a=int(input())\n",
    "b=int(input())\n",
    "c=int(input())\n",
    "d=int(input())\n",
    "e=int(input())"
   ]
  },
  {
   "cell_type": "code",
   "execution_count": 2,
   "id": "e25cc25f-e325-4795-a870-551a8d808345",
   "metadata": {},
   "outputs": [
    {
     "name": "stdin",
     "output_type": "stream",
     "text": [
      " 10\n"
     ]
    },
    {
     "ename": "ValueError",
     "evalue": "not enough values to unpack (expected 5, got 2)",
     "output_type": "error",
     "traceback": [
      "\u001b[0;31m---------------------------------------------------------------------------\u001b[0m",
      "\u001b[0;31mValueError\u001b[0m                                Traceback (most recent call last)",
      "Input \u001b[0;32mIn [2]\u001b[0m, in \u001b[0;36m<cell line: 1>\u001b[0;34m()\u001b[0m\n\u001b[0;32m----> 1\u001b[0m a,b,c,d,e\u001b[38;5;241m=\u001b[39m\u001b[38;5;28mmap\u001b[39m(\u001b[38;5;28mint\u001b[39m,\u001b[38;5;28minput\u001b[39m())\n\u001b[1;32m      2\u001b[0m \u001b[38;5;28mprint\u001b[39m((a\u001b[38;5;241m+\u001b[39mb\u001b[38;5;241m+\u001b[39mc\u001b[38;5;241m+\u001b[39md\u001b[38;5;241m+\u001b[39me)\u001b[38;5;241m/\u001b[39m\u001b[38;5;241m5\u001b[39m)\n",
      "\u001b[0;31mValueError\u001b[0m: not enough values to unpack (expected 5, got 2)"
     ]
    }
   ],
   "source": [
    "a,b,c,d,e=map(int,input())\n",
    "print((a+b+c+d+e)/5)"
   ]
  },
  {
   "cell_type": "code",
   "execution_count": 5,
   "id": "8c6b0365-dbea-43c6-a4ee-40542a8741a1",
   "metadata": {},
   "outputs": [
    {
     "name": "stdin",
     "output_type": "stream",
     "text": [
      " 10\n",
      " 65\n",
      " 100\n",
      " 30\n",
      " 95\n"
     ]
    },
    {
     "name": "stdout",
     "output_type": "stream",
     "text": [
      "68\n"
     ]
    }
   ],
   "source": [
    "total=0\n",
    "for i in range(5):\n",
    "    count=int(input())\n",
    "    if count <=40:\n",
    "        total=total+40\n",
    "    else:\n",
    "        total=total+count\n",
    "print(total//5)"
   ]
  },
  {
   "cell_type": "markdown",
   "id": "96d998d2-cd56-415c-8a72-0ea4d7a0c79f",
   "metadata": {},
   "source": [
    "`//`은 나눗셈을 정수형으로 출력시킴.\n",
    "\n",
    "- int(input())을 for문 안에 넣어서 작성할 수도 있음"
   ]
  },
  {
   "cell_type": "markdown",
   "id": "7bf130eb-8a8e-4dda-916e-2ca0aceac508",
   "metadata": {},
   "source": [
    "## 4101"
   ]
  },
  {
   "cell_type": "code",
   "execution_count": 8,
   "id": "04ac0146-3d8d-428f-8605-6ed731fc9d57",
   "metadata": {},
   "outputs": [
    {
     "name": "stdin",
     "output_type": "stream",
     "text": [
      " 1 19\n"
     ]
    },
    {
     "name": "stdout",
     "output_type": "stream",
     "text": [
      "No\n"
     ]
    },
    {
     "name": "stdin",
     "output_type": "stream",
     "text": [
      " 4 4\n"
     ]
    },
    {
     "name": "stdout",
     "output_type": "stream",
     "text": [
      "No\n"
     ]
    },
    {
     "name": "stdin",
     "output_type": "stream",
     "text": [
      " 23 14\n"
     ]
    },
    {
     "name": "stdout",
     "output_type": "stream",
     "text": [
      "Yes\n"
     ]
    },
    {
     "name": "stdin",
     "output_type": "stream",
     "text": [
      " 0 0\n"
     ]
    }
   ],
   "source": [
    "while True:\n",
    "    a,b=map(int,input().split())\n",
    "    if a==0 & b== 0:\n",
    "        break\n",
    "    if a>b:\n",
    "        print(\"Yes\")\n",
    "    else:\n",
    "        print(\"No\")"
   ]
  },
  {
   "cell_type": "markdown",
   "id": "d982b793-9d78-4e83-87fd-c72f13fe1229",
   "metadata": {},
   "source": [
    "## 10156"
   ]
  },
  {
   "cell_type": "code",
   "execution_count": 12,
   "id": "05281bab-70f9-496b-a890-ef87cbbb1212",
   "metadata": {},
   "outputs": [
    {
     "name": "stdin",
     "output_type": "stream",
     "text": [
      " 250 2 140\n"
     ]
    },
    {
     "name": "stdout",
     "output_type": "stream",
     "text": [
      "360\n"
     ]
    }
   ],
   "source": [
    "k,n,m=map(int,input().split())\n",
    "a=k*n-m\n",
    "if a>=0:\n",
    "    print(a)\n",
    "else:\n",
    "    print(0)"
   ]
  },
  {
   "cell_type": "code",
   "execution_count": null,
   "id": "fa841fff-7237-4e4a-b7b4-c3bc04ed3ca4",
   "metadata": {},
   "outputs": [],
   "source": []
  }
 ],
 "metadata": {
  "kernelspec": {
   "display_name": "Python 3 (ipykernel)",
   "language": "python",
   "name": "python3"
  },
  "language_info": {
   "codemirror_mode": {
    "name": "ipython",
    "version": 3
   },
   "file_extension": ".py",
   "mimetype": "text/x-python",
   "name": "python",
   "nbconvert_exporter": "python",
   "pygments_lexer": "ipython3",
   "version": "3.9.7"
  }
 },
 "nbformat": 4,
 "nbformat_minor": 5
}
