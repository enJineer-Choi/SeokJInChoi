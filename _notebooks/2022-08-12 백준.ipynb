{
 "cells": [
  {
   "cell_type": "markdown",
   "id": "ec505284-b575-4738-8baa-de6a06aacfc9",
   "metadata": {},
   "source": [
    "## 5086"
   ]
  },
  {
   "cell_type": "code",
   "execution_count": null,
   "id": "a749e052-5989-4d4c-b450-2e517b02b59a",
   "metadata": {},
   "outputs": [],
   "source": []
  }
 ],
 "metadata": {
  "kernelspec": {
   "display_name": "Python 3 (ipykernel)",
   "language": "python",
   "name": "python3"
  },
  "language_info": {
   "codemirror_mode": {
    "name": "ipython",
    "version": 3
   },
   "file_extension": ".py",
   "mimetype": "text/x-python",
   "name": "python",
   "nbconvert_exporter": "python",
   "pygments_lexer": "ipython3",
   "version": "3.9.7"
  }
 },
 "nbformat": 4,
 "nbformat_minor": 5
}
