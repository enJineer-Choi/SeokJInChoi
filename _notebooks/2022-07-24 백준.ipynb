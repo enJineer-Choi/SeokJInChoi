{
 "cells": [
  {
   "cell_type": "markdown",
   "id": "66b1072c-d71d-4efe-a21b-c85f788b25b1",
   "metadata": {},
   "source": [
    "### 2741"
   ]
  },
  {
   "cell_type": "code",
   "execution_count": 11,
   "id": "cb1a9880-8123-477f-9588-a12215e1040e",
   "metadata": {},
   "outputs": [
    {
     "name": "stdin",
     "output_type": "stream",
     "text": [
      " 5\n"
     ]
    },
    {
     "name": "stdout",
     "output_type": "stream",
     "text": [
      "1\n",
      "2\n",
      "3\n",
      "4\n",
      "5\n"
     ]
    }
   ],
   "source": [
    "a=int(input())\n",
    "for i in range(1,a+1):\n",
    "    print(i)"
   ]
  },
  {
   "cell_type": "markdown",
   "id": "4bed511a-c7c8-495d-91fe-f291b0b253f3",
   "metadata": {},
   "source": [
    "### 2742"
   ]
  },
  {
   "cell_type": "code",
   "execution_count": 16,
   "id": "afd9e917-8b9e-42e6-a61f-c90087a4cc23",
   "metadata": {},
   "outputs": [
    {
     "name": "stdin",
     "output_type": "stream",
     "text": [
      " 9\n"
     ]
    },
    {
     "name": "stdout",
     "output_type": "stream",
     "text": [
      "9\n",
      "8\n",
      "7\n",
      "6\n",
      "5\n",
      "4\n",
      "3\n",
      "2\n",
      "1\n"
     ]
    }
   ],
   "source": [
    "a=int(input())\n",
    "for i in range(a,0,-1):\n",
    "    print(i)"
   ]
  },
  {
   "cell_type": "markdown",
   "id": "95cfa8d8-9447-48ea-80f6-25c1da2ffea4",
   "metadata": {},
   "source": [
    "### 2752"
   ]
  },
  {
   "cell_type": "code",
   "execution_count": 15,
   "id": "7129513a-70f6-43eb-8751-ea0a54f328e6",
   "metadata": {},
   "outputs": [
    {
     "name": "stdin",
     "output_type": "stream",
     "text": [
      " 3 1 2\n"
     ]
    },
    {
     "name": "stdout",
     "output_type": "stream",
     "text": [
      "['1', '2', '3']\n"
     ]
    }
   ],
   "source": [
    "k=input().split()\n",
    "print(sorted(k))"
   ]
  },
  {
   "cell_type": "code",
   "execution_count": 3,
   "id": "76e60939-d529-4090-9829-0cb126afe931",
   "metadata": {},
   "outputs": [
    {
     "data": {
      "text/plain": [
       "list"
      ]
     },
     "execution_count": 3,
     "metadata": {},
     "output_type": "execute_result"
    }
   ],
   "source": [
    "type(k)"
   ]
  },
  {
   "cell_type": "code",
   "execution_count": 18,
   "id": "983870fc-9696-4832-bdd9-f66fb0481eff",
   "metadata": {},
   "outputs": [
    {
     "name": "stdout",
     "output_type": "stream",
     "text": [
      "<map object at 0x7f8800ea42b0>\n"
     ]
    }
   ],
   "source": [
    "l=list('125364')\n",
    "l1=nsorted(l)\n",
    "l2=map(int,l1)\n",
    "print(l2)"
   ]
  },
  {
   "cell_type": "code",
   "execution_count": 19,
   "id": "e4cb7ad1-61f7-41aa-bb91-66373ac8bcb3",
   "metadata": {},
   "outputs": [
    {
     "data": {
      "text/plain": [
       "['1', '2', '5', '3', '6', '4']"
      ]
     },
     "execution_count": 19,
     "metadata": {},
     "output_type": "execute_result"
    }
   ],
   "source": [
    "l"
   ]
  },
  {
   "cell_type": "code",
   "execution_count": null,
   "id": "fbea4554-d8c7-4376-a6d9-6579df6205b0",
   "metadata": {},
   "outputs": [],
   "source": []
  }
 ],
 "metadata": {
  "kernelspec": {
   "display_name": "Python 3 (ipykernel)",
   "language": "python",
   "name": "python3"
  },
  "language_info": {
   "codemirror_mode": {
    "name": "ipython",
    "version": 3
   },
   "file_extension": ".py",
   "mimetype": "text/x-python",
   "name": "python",
   "nbconvert_exporter": "python",
   "pygments_lexer": "ipython3",
   "version": "3.9.7"
  }
 },
 "nbformat": 4,
 "nbformat_minor": 5
}
