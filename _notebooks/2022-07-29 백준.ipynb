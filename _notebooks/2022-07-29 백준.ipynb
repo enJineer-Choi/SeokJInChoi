{
 "cells": [
  {
   "cell_type": "markdown",
   "id": "308ba1aa-5130-4983-9df0-01580ab34d69",
   "metadata": {},
   "source": [
    "## 2163"
   ]
  },
  {
   "cell_type": "code",
   "execution_count": 1,
   "id": "6df9a404-66b7-4e49-b4a5-2a6bf0c54b5f",
   "metadata": {},
   "outputs": [
    {
     "name": "stdin",
     "output_type": "stream",
     "text": [
      " 2 2\n"
     ]
    },
    {
     "name": "stdout",
     "output_type": "stream",
     "text": [
      "3\n"
     ]
    }
   ],
   "source": [
    "N,M=map(int,input().split())\n",
    "print(N*M-1)"
   ]
  },
  {
   "cell_type": "markdown",
   "id": "6f54343e-aedc-4bd4-8f9d-e4d42c8d357e",
   "metadata": {},
   "source": [
    "## 7287"
   ]
  },
  {
   "cell_type": "code",
   "execution_count": 7,
   "id": "e466c0d2-bf81-4374-83ca-b59d0b876f1f",
   "metadata": {},
   "outputs": [
    {
     "name": "stdout",
     "output_type": "stream",
     "text": [
      "28\n",
      "sjin9026\n"
     ]
    }
   ],
   "source": [
    "print(\"28\")\n",
    "print(\"sjin9026\")"
   ]
  },
  {
   "cell_type": "markdown",
   "id": "885e2723-a56b-48bf-abef-9903d1b7a373",
   "metadata": {},
   "source": [
    "## 11021"
   ]
  },
  {
   "cell_type": "code",
   "execution_count": 14,
   "id": "9de67754-8051-426c-bfbc-834231b7fc69",
   "metadata": {},
   "outputs": [
    {
     "data": {
      "text/plain": [
       "'Case #range(1, 6):'"
      ]
     },
     "execution_count": 14,
     "metadata": {},
     "output_type": "execute_result"
    }
   ],
   "source": [
    "\"Case #{}:\".format(range(1,6))"
   ]
  },
  {
   "cell_type": "code",
   "execution_count": 12,
   "id": "c8aee904-bc77-4747-8c26-64b8e0eb84a2",
   "metadata": {},
   "outputs": [
    {
     "ename": "SyntaxError",
     "evalue": "invalid syntax (1856885465.py, line 1)",
     "output_type": "error",
     "traceback": [
      "\u001b[0;36m  Input \u001b[0;32mIn [12]\u001b[0;36m\u001b[0m\n\u001b[0;31m    for i in range(1,6)\u001b[0m\n\u001b[0m                       ^\u001b[0m\n\u001b[0;31mSyntaxError\u001b[0m\u001b[0;31m:\u001b[0m invalid syntax\n"
     ]
    }
   ],
   "source": [
    "for i in range(1,6)"
   ]
  },
  {
   "cell_type": "code",
   "execution_count": 17,
   "id": "5a69469c-1b00-474a-8d35-78dde6b1fdd4",
   "metadata": {},
   "outputs": [
    {
     "name": "stdin",
     "output_type": "stream",
     "text": [
      " 4\n",
      " 1 1\n"
     ]
    },
    {
     "name": "stdout",
     "output_type": "stream",
     "text": [
      "Case #1: 2\n"
     ]
    },
    {
     "name": "stdin",
     "output_type": "stream",
     "text": [
      " 2 2\n"
     ]
    },
    {
     "name": "stdout",
     "output_type": "stream",
     "text": [
      "Case #2: 4\n"
     ]
    },
    {
     "name": "stdin",
     "output_type": "stream",
     "text": [
      " 4 4\n"
     ]
    },
    {
     "name": "stdout",
     "output_type": "stream",
     "text": [
      "Case #3: 8\n"
     ]
    },
    {
     "name": "stdin",
     "output_type": "stream",
     "text": [
      " 5 4\n"
     ]
    },
    {
     "name": "stdout",
     "output_type": "stream",
     "text": [
      "Case #4: 9\n"
     ]
    }
   ],
   "source": [
    "t=int(input())\n",
    "for i in range(1,t+1):\n",
    "    a,b=map(int,input().split())\n",
    "    print(f\"Case #{i}: {a+b}\")"
   ]
  },
  {
   "cell_type": "markdown",
   "id": "c8a5b701-98f1-4b3d-98c3-66e224e5e6dc",
   "metadata": {},
   "source": [
    "## 11022"
   ]
  },
  {
   "cell_type": "code",
   "execution_count": 2,
   "id": "9f8eb9e2-023d-4f36-83ee-00a264357de6",
   "metadata": {},
   "outputs": [
    {
     "name": "stdin",
     "output_type": "stream",
     "text": [
      " 3\n",
      " 1 1\n"
     ]
    },
    {
     "name": "stdout",
     "output_type": "stream",
     "text": [
      "Case #1:1+1=2\n"
     ]
    },
    {
     "name": "stdin",
     "output_type": "stream",
     "text": [
      " 2 2\n"
     ]
    },
    {
     "name": "stdout",
     "output_type": "stream",
     "text": [
      "Case #2:2+2=4\n"
     ]
    },
    {
     "name": "stdin",
     "output_type": "stream",
     "text": [
      " 5 5\n"
     ]
    },
    {
     "name": "stdout",
     "output_type": "stream",
     "text": [
      "Case #3:5+5=10\n"
     ]
    }
   ],
   "source": [
    "t=int(input())\n",
    "for i in range(1,t+1):\n",
    "    a,b=map(int,input().split())\n",
    "    c=a+b\n",
    "    print(\"Case #\"+str(i)+ \":\" +str(a)+\"+\"+str(b)+\"=\"+c)"
   ]
  },
  {
   "cell_type": "code",
   "execution_count": 3,
   "id": "2dc20fa5-c688-4aff-a27f-7d8180445e23",
   "metadata": {},
   "outputs": [
    {
     "name": "stdin",
     "output_type": "stream",
     "text": [
      " 3\n",
      " 1 1\n"
     ]
    },
    {
     "name": "stdout",
     "output_type": "stream",
     "text": [
      "Case #1: 1 + 1 = 2\n"
     ]
    },
    {
     "name": "stdin",
     "output_type": "stream",
     "text": [
      " 2 2\n"
     ]
    },
    {
     "name": "stdout",
     "output_type": "stream",
     "text": [
      "Case #2: 2 + 2 = 4\n"
     ]
    },
    {
     "name": "stdin",
     "output_type": "stream",
     "text": [
      " 4 4\n"
     ]
    },
    {
     "name": "stdout",
     "output_type": "stream",
     "text": [
      "Case #3: 4 + 4 = 8\n"
     ]
    }
   ],
   "source": [
    "t=int(input())\n",
    "for i in range(1,t+1):\n",
    "    a,b=map(int,input().split())\n",
    "    c=a+b\n",
    "    print('Case #'+str(i)+':',str(a),'+',str(b),'=',c)"
   ]
  },
  {
   "cell_type": "code",
   "execution_count": null,
   "id": "83972f19-875d-4ad5-a1c3-bc806bc7145f",
   "metadata": {},
   "outputs": [],
   "source": []
  }
 ],
 "metadata": {
  "kernelspec": {
   "display_name": "Python 3 (ipykernel)",
   "language": "python",
   "name": "python3"
  },
  "language_info": {
   "codemirror_mode": {
    "name": "ipython",
    "version": 3
   },
   "file_extension": ".py",
   "mimetype": "text/x-python",
   "name": "python",
   "nbconvert_exporter": "python",
   "pygments_lexer": "ipython3",
   "version": "3.9.7"
  }
 },
 "nbformat": 4,
 "nbformat_minor": 5
}
