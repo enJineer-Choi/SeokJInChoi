{
 "cells": [
  {
   "cell_type": "markdown",
   "id": "21789275-ea5e-4c80-821a-063025e8cabc",
   "metadata": {},
   "source": [
    "## 10102"
   ]
  },
  {
   "cell_type": "code",
   "execution_count": null,
   "id": "0656c624-b949-445f-bdc1-a7723aae40aa",
   "metadata": {},
   "outputs": [],
   "source": [
    "v=int(input())\n",
    "l=list(str(input()))\n",
    "a_n=l.count('A')\n",
    "b_n=l.count('B')\n",
    "if a_n>b_n:\n",
    "    print('A')\n",
    "elif a_n<b_n:\n",
    "    print('B')\n",
    "el"
   ]
  }
 ],
 "metadata": {
  "kernelspec": {
   "display_name": "Python 3 (ipykernel)",
   "language": "python",
   "name": "python3"
  },
  "language_info": {
   "codemirror_mode": {
    "name": "ipython",
    "version": 3
   },
   "file_extension": ".py",
   "mimetype": "text/x-python",
   "name": "python",
   "nbconvert_exporter": "python",
   "pygments_lexer": "ipython3",
   "version": "3.9.7"
  }
 },
 "nbformat": 4,
 "nbformat_minor": 5
}
