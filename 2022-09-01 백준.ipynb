{
 "cells": [
  {
   "cell_type": "markdown",
   "id": "57b2e9ae-7454-490f-a12a-b5192b87041b",
   "metadata": {},
   "source": [
    "## 11098"
   ]
  },
  {
   "cell_type": "code",
   "execution_count": null,
   "id": "4347e964-9a66-418f-9005-a3fe91b997b4",
   "metadata": {},
   "outputs": [],
   "source": []
  }
 ],
 "metadata": {
  "kernelspec": {
   "display_name": "Python 3 (ipykernel)",
   "language": "python",
   "name": "python3"
  },
  "language_info": {
   "codemirror_mode": {
    "name": "ipython",
    "version": 3
   },
   "file_extension": ".py",
   "mimetype": "text/x-python",
   "name": "python",
   "nbconvert_exporter": "python",
   "pygments_lexer": "ipython3",
   "version": "3.9.7"
  }
 },
 "nbformat": 4,
 "nbformat_minor": 5
}
